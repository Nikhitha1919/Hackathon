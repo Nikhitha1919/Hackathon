{
 "cells": [
  {
   "cell_type": "code",
   "execution_count": 1,
   "id": "7cd88ba1",
   "metadata": {
    "ExecuteTime": {
     "end_time": "2023-02-11T10:46:39.393806Z",
     "start_time": "2023-02-11T10:46:37.579530Z"
    }
   },
   "outputs": [],
   "source": [
    "import numpy as np \n",
    "import pandas as pd\n",
    "import matplotlib.pyplot as plt\n",
    "import seaborn as sns\n",
    "\n",
    "import warnings\n",
    "warnings.filterwarnings(\"ignore\")\n",
    "\n",
    "from IPython.core.interactiveshell import InteractiveShell\n",
    "InteractiveShell.ast_node_interactivity = 'all'"
   ]
  },
  {
   "cell_type": "code",
   "execution_count": 2,
   "id": "89ee88ec",
   "metadata": {
    "ExecuteTime": {
     "end_time": "2023-02-11T10:46:39.425091Z",
     "start_time": "2023-02-11T10:46:39.398801Z"
    }
   },
   "outputs": [],
   "source": [
    "data=pd.read_csv(r\"C:\\Users\\Home\\Downloads\\dataframe_.csv\",skipinitialspace=True)"
   ]
  },
  {
   "cell_type": "code",
   "execution_count": 3,
   "id": "f057522d",
   "metadata": {
    "ExecuteTime": {
     "end_time": "2023-02-11T10:46:39.457007Z",
     "start_time": "2023-02-11T10:46:39.431081Z"
    }
   },
   "outputs": [
    {
     "data": {
      "text/html": [
       "<div>\n",
       "<style scoped>\n",
       "    .dataframe tbody tr th:only-of-type {\n",
       "        vertical-align: middle;\n",
       "    }\n",
       "\n",
       "    .dataframe tbody tr th {\n",
       "        vertical-align: top;\n",
       "    }\n",
       "\n",
       "    .dataframe thead th {\n",
       "        text-align: right;\n",
       "    }\n",
       "</style>\n",
       "<table border=\"1\" class=\"dataframe\">\n",
       "  <thead>\n",
       "    <tr style=\"text-align: right;\">\n",
       "      <th></th>\n",
       "      <th>input</th>\n",
       "      <th>output</th>\n",
       "    </tr>\n",
       "  </thead>\n",
       "  <tbody>\n",
       "    <tr>\n",
       "      <th>0</th>\n",
       "      <td>-122.740667</td>\n",
       "      <td>-130.572085</td>\n",
       "    </tr>\n",
       "    <tr>\n",
       "      <th>1</th>\n",
       "      <td>-121.531419</td>\n",
       "      <td>-129.938929</td>\n",
       "    </tr>\n",
       "    <tr>\n",
       "      <th>2</th>\n",
       "      <td>-134.917019</td>\n",
       "      <td>-130.141832</td>\n",
       "    </tr>\n",
       "    <tr>\n",
       "      <th>3</th>\n",
       "      <td>-120.605951</td>\n",
       "      <td>-125.760932</td>\n",
       "    </tr>\n",
       "    <tr>\n",
       "      <th>4</th>\n",
       "      <td>-129.894781</td>\n",
       "      <td>-112.785214</td>\n",
       "    </tr>\n",
       "    <tr>\n",
       "      <th>...</th>\n",
       "      <td>...</td>\n",
       "      <td>...</td>\n",
       "    </tr>\n",
       "    <tr>\n",
       "      <th>1692</th>\n",
       "      <td>25.410184</td>\n",
       "      <td>-76.380902</td>\n",
       "    </tr>\n",
       "    <tr>\n",
       "      <th>1693</th>\n",
       "      <td>29.537304</td>\n",
       "      <td>-82.796934</td>\n",
       "    </tr>\n",
       "    <tr>\n",
       "      <th>1694</th>\n",
       "      <td>31.633331</td>\n",
       "      <td>-87.000000</td>\n",
       "    </tr>\n",
       "    <tr>\n",
       "      <th>1695</th>\n",
       "      <td>29.091458</td>\n",
       "      <td>-104.943052</td>\n",
       "    </tr>\n",
       "    <tr>\n",
       "      <th>1696</th>\n",
       "      <td>17.145296</td>\n",
       "      <td>-101.726894</td>\n",
       "    </tr>\n",
       "  </tbody>\n",
       "</table>\n",
       "<p>1697 rows × 2 columns</p>\n",
       "</div>"
      ],
      "text/plain": [
       "           input      output\n",
       "0    -122.740667 -130.572085\n",
       "1    -121.531419 -129.938929\n",
       "2    -134.917019 -130.141832\n",
       "3    -120.605951 -125.760932\n",
       "4    -129.894781 -112.785214\n",
       "...          ...         ...\n",
       "1692   25.410184  -76.380902\n",
       "1693   29.537304  -82.796934\n",
       "1694   31.633331  -87.000000\n",
       "1695   29.091458 -104.943052\n",
       "1696   17.145296 -101.726894\n",
       "\n",
       "[1697 rows x 2 columns]"
      ]
     },
     "execution_count": 3,
     "metadata": {},
     "output_type": "execute_result"
    }
   ],
   "source": [
    "data"
   ]
  },
  {
   "cell_type": "code",
   "execution_count": 4,
   "id": "e9bbea41",
   "metadata": {
    "ExecuteTime": {
     "end_time": "2023-02-11T10:46:39.472963Z",
     "start_time": "2023-02-11T10:46:39.458998Z"
    }
   },
   "outputs": [
    {
     "data": {
      "text/plain": [
       "(1697, 2)"
      ]
     },
     "execution_count": 4,
     "metadata": {},
     "output_type": "execute_result"
    }
   ],
   "source": [
    "data.shape"
   ]
  },
  {
   "cell_type": "markdown",
   "id": "984536a9",
   "metadata": {},
   "source": [
    "## Checking for duplicates"
   ]
  },
  {
   "cell_type": "code",
   "execution_count": 5,
   "id": "79413d4c",
   "metadata": {
    "ExecuteTime": {
     "end_time": "2023-02-11T10:46:39.488919Z",
     "start_time": "2023-02-11T10:46:39.474958Z"
    }
   },
   "outputs": [
    {
     "data": {
      "text/html": [
       "<div>\n",
       "<style scoped>\n",
       "    .dataframe tbody tr th:only-of-type {\n",
       "        vertical-align: middle;\n",
       "    }\n",
       "\n",
       "    .dataframe tbody tr th {\n",
       "        vertical-align: top;\n",
       "    }\n",
       "\n",
       "    .dataframe thead th {\n",
       "        text-align: right;\n",
       "    }\n",
       "</style>\n",
       "<table border=\"1\" class=\"dataframe\">\n",
       "  <thead>\n",
       "    <tr style=\"text-align: right;\">\n",
       "      <th></th>\n",
       "      <th>input</th>\n",
       "      <th>output</th>\n",
       "    </tr>\n",
       "  </thead>\n",
       "  <tbody>\n",
       "    <tr>\n",
       "      <th>106</th>\n",
       "      <td>-63.366669</td>\n",
       "      <td>-33.000000</td>\n",
       "    </tr>\n",
       "    <tr>\n",
       "      <th>464</th>\n",
       "      <td>112.633331</td>\n",
       "      <td>103.000000</td>\n",
       "    </tr>\n",
       "    <tr>\n",
       "      <th>715</th>\n",
       "      <td>-31.366669</td>\n",
       "      <td>-49.000000</td>\n",
       "    </tr>\n",
       "    <tr>\n",
       "      <th>819</th>\n",
       "      <td>-117.366669</td>\n",
       "      <td>-75.000000</td>\n",
       "    </tr>\n",
       "    <tr>\n",
       "      <th>865</th>\n",
       "      <td>-131.366669</td>\n",
       "      <td>-125.000000</td>\n",
       "    </tr>\n",
       "    <tr>\n",
       "      <th>...</th>\n",
       "      <td>...</td>\n",
       "      <td>...</td>\n",
       "    </tr>\n",
       "    <tr>\n",
       "      <th>1692</th>\n",
       "      <td>25.410184</td>\n",
       "      <td>-76.380902</td>\n",
       "    </tr>\n",
       "    <tr>\n",
       "      <th>1693</th>\n",
       "      <td>29.537304</td>\n",
       "      <td>-82.796934</td>\n",
       "    </tr>\n",
       "    <tr>\n",
       "      <th>1694</th>\n",
       "      <td>31.633331</td>\n",
       "      <td>-87.000000</td>\n",
       "    </tr>\n",
       "    <tr>\n",
       "      <th>1695</th>\n",
       "      <td>29.091458</td>\n",
       "      <td>-104.943052</td>\n",
       "    </tr>\n",
       "    <tr>\n",
       "      <th>1696</th>\n",
       "      <td>17.145296</td>\n",
       "      <td>-101.726894</td>\n",
       "    </tr>\n",
       "  </tbody>\n",
       "</table>\n",
       "<p>606 rows × 2 columns</p>\n",
       "</div>"
      ],
      "text/plain": [
       "           input      output\n",
       "106   -63.366669  -33.000000\n",
       "464   112.633331  103.000000\n",
       "715   -31.366669  -49.000000\n",
       "819  -117.366669  -75.000000\n",
       "865  -131.366669 -125.000000\n",
       "...          ...         ...\n",
       "1692   25.410184  -76.380902\n",
       "1693   29.537304  -82.796934\n",
       "1694   31.633331  -87.000000\n",
       "1695   29.091458 -104.943052\n",
       "1696   17.145296 -101.726894\n",
       "\n",
       "[606 rows x 2 columns]"
      ]
     },
     "execution_count": 5,
     "metadata": {},
     "output_type": "execute_result"
    }
   ],
   "source": [
    "data[data.duplicated()]"
   ]
  },
  {
   "cell_type": "code",
   "execution_count": 6,
   "id": "0788df2e",
   "metadata": {
    "ExecuteTime": {
     "end_time": "2023-02-11T10:46:39.504876Z",
     "start_time": "2023-02-11T10:46:39.490913Z"
    }
   },
   "outputs": [],
   "source": [
    "data.drop_duplicates(inplace=True)## dropped the duplicated values"
   ]
  },
  {
   "cell_type": "code",
   "execution_count": 7,
   "id": "7582e163",
   "metadata": {
    "ExecuteTime": {
     "end_time": "2023-02-11T10:46:39.520832Z",
     "start_time": "2023-02-11T10:46:39.506871Z"
    }
   },
   "outputs": [
    {
     "data": {
      "text/html": [
       "<div>\n",
       "<style scoped>\n",
       "    .dataframe tbody tr th:only-of-type {\n",
       "        vertical-align: middle;\n",
       "    }\n",
       "\n",
       "    .dataframe tbody tr th {\n",
       "        vertical-align: top;\n",
       "    }\n",
       "\n",
       "    .dataframe thead th {\n",
       "        text-align: right;\n",
       "    }\n",
       "</style>\n",
       "<table border=\"1\" class=\"dataframe\">\n",
       "  <thead>\n",
       "    <tr style=\"text-align: right;\">\n",
       "      <th></th>\n",
       "      <th>input</th>\n",
       "      <th>output</th>\n",
       "    </tr>\n",
       "  </thead>\n",
       "  <tbody>\n",
       "    <tr>\n",
       "      <th>0</th>\n",
       "      <td>-122.740667</td>\n",
       "      <td>-130.572085</td>\n",
       "    </tr>\n",
       "    <tr>\n",
       "      <th>1</th>\n",
       "      <td>-121.531419</td>\n",
       "      <td>-129.938929</td>\n",
       "    </tr>\n",
       "    <tr>\n",
       "      <th>2</th>\n",
       "      <td>-134.917019</td>\n",
       "      <td>-130.141832</td>\n",
       "    </tr>\n",
       "    <tr>\n",
       "      <th>3</th>\n",
       "      <td>-120.605951</td>\n",
       "      <td>-125.760932</td>\n",
       "    </tr>\n",
       "    <tr>\n",
       "      <th>4</th>\n",
       "      <td>-129.894781</td>\n",
       "      <td>-112.785214</td>\n",
       "    </tr>\n",
       "    <tr>\n",
       "      <th>...</th>\n",
       "      <td>...</td>\n",
       "      <td>...</td>\n",
       "    </tr>\n",
       "    <tr>\n",
       "      <th>1107</th>\n",
       "      <td>-119.954237</td>\n",
       "      <td>123.609122</td>\n",
       "    </tr>\n",
       "    <tr>\n",
       "      <th>1108</th>\n",
       "      <td>-109.942155</td>\n",
       "      <td>127.197394</td>\n",
       "    </tr>\n",
       "    <tr>\n",
       "      <th>1109</th>\n",
       "      <td>-111.515368</td>\n",
       "      <td>128.170885</td>\n",
       "    </tr>\n",
       "    <tr>\n",
       "      <th>1110</th>\n",
       "      <td>-110.344221</td>\n",
       "      <td>123.087950</td>\n",
       "    </tr>\n",
       "    <tr>\n",
       "      <th>1439</th>\n",
       "      <td>NaN</td>\n",
       "      <td>NaN</td>\n",
       "    </tr>\n",
       "  </tbody>\n",
       "</table>\n",
       "<p>1091 rows × 2 columns</p>\n",
       "</div>"
      ],
      "text/plain": [
       "           input      output\n",
       "0    -122.740667 -130.572085\n",
       "1    -121.531419 -129.938929\n",
       "2    -134.917019 -130.141832\n",
       "3    -120.605951 -125.760932\n",
       "4    -129.894781 -112.785214\n",
       "...          ...         ...\n",
       "1107 -119.954237  123.609122\n",
       "1108 -109.942155  127.197394\n",
       "1109 -111.515368  128.170885\n",
       "1110 -110.344221  123.087950\n",
       "1439         NaN         NaN\n",
       "\n",
       "[1091 rows x 2 columns]"
      ]
     },
     "execution_count": 7,
     "metadata": {},
     "output_type": "execute_result"
    }
   ],
   "source": [
    "data"
   ]
  },
  {
   "cell_type": "markdown",
   "id": "9569afca",
   "metadata": {},
   "source": [
    "## Checking for the missing values"
   ]
  },
  {
   "cell_type": "code",
   "execution_count": 8,
   "id": "9dce6956",
   "metadata": {
    "ExecuteTime": {
     "end_time": "2023-02-11T10:46:39.536831Z",
     "start_time": "2023-02-11T10:46:39.521830Z"
    }
   },
   "outputs": [
    {
     "data": {
      "text/plain": [
       "input     1\n",
       "output    1\n",
       "dtype: int64"
      ]
     },
     "execution_count": 8,
     "metadata": {},
     "output_type": "execute_result"
    }
   ],
   "source": [
    "data.isna().sum()"
   ]
  },
  {
   "cell_type": "code",
   "execution_count": 9,
   "id": "122f88c3",
   "metadata": {
    "ExecuteTime": {
     "end_time": "2023-02-11T10:46:39.552784Z",
     "start_time": "2023-02-11T10:46:39.537788Z"
    }
   },
   "outputs": [
    {
     "data": {
      "text/plain": [
       "17.462087345"
      ]
     },
     "execution_count": 9,
     "metadata": {},
     "output_type": "execute_result"
    },
    {
     "data": {
      "text/plain": [
       "8.116185427163302"
      ]
     },
     "execution_count": 9,
     "metadata": {},
     "output_type": "execute_result"
    }
   ],
   "source": [
    "data.input.median()\n",
    "data.input.mean()"
   ]
  },
  {
   "cell_type": "code",
   "execution_count": 10,
   "id": "604e9530",
   "metadata": {
    "ExecuteTime": {
     "end_time": "2023-02-11T10:46:39.568745Z",
     "start_time": "2023-02-11T10:46:39.555785Z"
    }
   },
   "outputs": [],
   "source": [
    "x=data.input.median()\n",
    "data.input.fillna(x,inplace=True) ## filling the input column nan with the median value "
   ]
  },
  {
   "cell_type": "code",
   "execution_count": 11,
   "id": "f45ea5aa",
   "metadata": {
    "ExecuteTime": {
     "end_time": "2023-02-11T10:46:39.584699Z",
     "start_time": "2023-02-11T10:46:39.570700Z"
    }
   },
   "outputs": [
    {
     "data": {
      "text/plain": [
       "-46.30093846"
      ]
     },
     "execution_count": 11,
     "metadata": {},
     "output_type": "execute_result"
    },
    {
     "data": {
      "text/plain": [
       "-27.383628220210085"
      ]
     },
     "execution_count": 11,
     "metadata": {},
     "output_type": "execute_result"
    }
   ],
   "source": [
    "data.output.median()\n",
    "data.output.mean()"
   ]
  },
  {
   "cell_type": "code",
   "execution_count": 12,
   "id": "8acbe264",
   "metadata": {
    "ExecuteTime": {
     "end_time": "2023-02-11T10:46:39.599653Z",
     "start_time": "2023-02-11T10:46:39.585696Z"
    }
   },
   "outputs": [],
   "source": [
    "x=data.output.median()\n",
    "data.output.fillna(x,inplace=True) ## filling the output column nan with the median value "
   ]
  },
  {
   "cell_type": "code",
   "execution_count": 13,
   "id": "62ed4421",
   "metadata": {
    "ExecuteTime": {
     "end_time": "2023-02-11T10:46:39.614622Z",
     "start_time": "2023-02-11T10:46:39.600622Z"
    }
   },
   "outputs": [
    {
     "name": "stdout",
     "output_type": "stream",
     "text": [
      "<class 'pandas.core.frame.DataFrame'>\n",
      "Int64Index: 1091 entries, 0 to 1439\n",
      "Data columns (total 2 columns):\n",
      " #   Column  Non-Null Count  Dtype  \n",
      "---  ------  --------------  -----  \n",
      " 0   input   1091 non-null   float64\n",
      " 1   output  1091 non-null   float64\n",
      "dtypes: float64(2)\n",
      "memory usage: 25.6 KB\n"
     ]
    }
   ],
   "source": [
    "data.info() #there are no misssing values in data"
   ]
  },
  {
   "cell_type": "markdown",
   "id": "1e287b11",
   "metadata": {},
   "source": [
    "## Outliers detection"
   ]
  },
  {
   "cell_type": "code",
   "execution_count": 14,
   "id": "33c5b4e5",
   "metadata": {
    "ExecuteTime": {
     "end_time": "2023-02-11T10:46:39.630580Z",
     "start_time": "2023-02-11T10:46:39.615617Z"
    }
   },
   "outputs": [
    {
     "data": {
      "text/plain": [
       "input    -0.284121\n",
       "output    0.923302\n",
       "dtype: float64"
      ]
     },
     "execution_count": 14,
     "metadata": {},
     "output_type": "execute_result"
    }
   ],
   "source": [
    "data.skew()"
   ]
  },
  {
   "cell_type": "code",
   "execution_count": 15,
   "id": "fca80d41",
   "metadata": {
    "ExecuteTime": {
     "end_time": "2023-02-11T10:46:39.740856Z",
     "start_time": "2023-02-11T10:46:39.633531Z"
    }
   },
   "outputs": [
    {
     "data": {
      "text/plain": [
       "<AxesSubplot:xlabel='input'>"
      ]
     },
     "execution_count": 15,
     "metadata": {},
     "output_type": "execute_result"
    },
    {
     "data": {
      "image/png": "[encoded data removed]",
      "text/plain": [
       "<Figure size 432x288 with 1 Axes>"
      ]
     },
     "metadata": {
      "needs_background": "light"
     },
     "output_type": "display_data"
    }
   ],
   "source": [
    "sns.boxplot(data.input) # input column as no outliers "
   ]
  },
  {
   "cell_type": "code",
   "execution_count": 16,
   "id": "dc449629",
   "metadata": {
    "ExecuteTime": {
     "end_time": "2023-02-11T10:46:39.836006Z",
     "start_time": "2023-02-11T10:46:39.742853Z"
    }
   },
   "outputs": [
    {
     "data": {
      "text/plain": [
       "<AxesSubplot:xlabel='output'>"
      ]
     },
     "execution_count": 16,
     "metadata": {},
     "output_type": "execute_result"
    },
    {
     "data": {
      "image/png": "[encoded data removed]",
      "text/plain": [
       "<Figure size 432x288 with 1 Axes>"
      ]
     },
     "metadata": {
      "needs_background": "light"
     },
     "output_type": "display_data"
    }
   ],
   "source": [
    "sns.boxplot(data.output) # output column as the outlier "
   ]
  },
  {
   "cell_type": "code",
   "execution_count": 17,
   "id": "3cfab1d3",
   "metadata": {
    "ExecuteTime": {
     "end_time": "2023-02-11T10:46:39.851895Z",
     "start_time": "2023-02-11T10:46:39.837895Z"
    }
   },
   "outputs": [
    {
     "name": "stdout",
     "output_type": "stream",
     "text": [
      "-76.9885951 -46.30093846 5.0754008045\n"
     ]
    }
   ],
   "source": [
    "Q1,Q2,Q3=((data.output).quantile(q=[0.25,0.50,0.75]))\n",
    "print(Q1,Q2,Q3)"
   ]
  },
  {
   "cell_type": "code",
   "execution_count": 18,
   "id": "51a20414",
   "metadata": {
    "ExecuteTime": {
     "end_time": "2023-02-11T10:46:39.867856Z",
     "start_time": "2023-02-11T10:46:39.852855Z"
    }
   },
   "outputs": [
    {
     "name": "stdout",
     "output_type": "stream",
     "text": [
      "82.0639959045 -200.08458895675 128.17139466125\n"
     ]
    }
   ],
   "source": [
    "IQR=Q3-Q1\n",
    "UL=Q3+(1.5)*IQR\n",
    "LL=Q1-(1.5)*IQR\n",
    "\n",
    "print(IQR,LL,UL)"
   ]
  },
  {
   "cell_type": "code",
   "execution_count": 19,
   "id": "5c86a717",
   "metadata": {
    "ExecuteTime": {
     "end_time": "2023-02-11T10:46:39.883772Z",
     "start_time": "2023-02-11T10:46:39.869854Z"
    }
   },
   "outputs": [
    {
     "data": {
      "text/plain": [
       "355     1\n",
       "1071    1\n",
       "1088    1\n",
       "1086    1\n",
       "1085    1\n",
       "1081    1\n",
       "1073    1\n",
       "1072    1\n",
       "1066    1\n",
       "359     1\n",
       "480     1\n",
       "477     1\n",
       "475     1\n",
       "473     1\n",
       "362     1\n",
       "360     1\n",
       "1090    1\n",
       "dtype: int64"
      ]
     },
     "execution_count": 19,
     "metadata": {},
     "output_type": "execute_result"
    }
   ],
   "source": [
    "data[(data.output > UL) | (data.output < LL)].index.value_counts()"
   ]
  },
  {
   "cell_type": "markdown",
   "id": "de63d08c",
   "metadata": {},
   "source": [
    "### cube root transformation"
   ]
  },
  {
   "cell_type": "code",
   "execution_count": 20,
   "id": "35fd7a85",
   "metadata": {
    "ExecuteTime": {
     "end_time": "2023-02-11T10:46:39.899730Z",
     "start_time": "2023-02-11T10:46:39.884769Z"
    }
   },
   "outputs": [
    {
     "name": "stdout",
     "output_type": "stream",
     "text": [
      "3.449235919566488 4.3149026472604515 4.769256644105729\n"
     ]
    }
   ],
   "source": [
    "Q1,Q2,Q3=(((data.output)**(1/3)).quantile(q=[0.25,0.50,0.75]))\n",
    "print(Q1,Q2,Q3)"
   ]
  },
  {
   "cell_type": "code",
   "execution_count": 21,
   "id": "42e525db",
   "metadata": {
    "ExecuteTime": {
     "end_time": "2023-02-11T10:46:39.915688Z",
     "start_time": "2023-02-11T10:46:39.901726Z"
    }
   },
   "outputs": [
    {
     "name": "stdout",
     "output_type": "stream",
     "text": [
      "1.320020724539241 1.4692048327576266 6.749287730914591\n"
     ]
    }
   ],
   "source": [
    "IQR=Q3-Q1\n",
    "UL=Q3+(1.5)*IQR\n",
    "LL=Q1-(1.5)*IQR\n",
    "\n",
    "print(IQR,LL,UL)"
   ]
  },
  {
   "cell_type": "code",
   "execution_count": 22,
   "id": "8bc17312",
   "metadata": {
    "ExecuteTime": {
     "end_time": "2023-02-11T10:46:39.931647Z",
     "start_time": "2023-02-11T10:46:39.916686Z"
    }
   },
   "outputs": [
    {
     "data": {
      "text/html": [
       "<div>\n",
       "<style scoped>\n",
       "    .dataframe tbody tr th:only-of-type {\n",
       "        vertical-align: middle;\n",
       "    }\n",
       "\n",
       "    .dataframe tbody tr th {\n",
       "        vertical-align: top;\n",
       "    }\n",
       "\n",
       "    .dataframe thead th {\n",
       "        text-align: right;\n",
       "    }\n",
       "</style>\n",
       "<table border=\"1\" class=\"dataframe\">\n",
       "  <thead>\n",
       "    <tr style=\"text-align: right;\">\n",
       "      <th></th>\n",
       "      <th>input</th>\n",
       "      <th>output</th>\n",
       "    </tr>\n",
       "  </thead>\n",
       "  <tbody>\n",
       "    <tr>\n",
       "      <th>300</th>\n",
       "      <td>82.896050</td>\n",
       "      <td>1.467981</td>\n",
       "    </tr>\n",
       "    <tr>\n",
       "      <th>405</th>\n",
       "      <td>94.824780</td>\n",
       "      <td>1.216252</td>\n",
       "    </tr>\n",
       "    <tr>\n",
       "      <th>411</th>\n",
       "      <td>73.465372</td>\n",
       "      <td>1.493731</td>\n",
       "    </tr>\n",
       "    <tr>\n",
       "      <th>530</th>\n",
       "      <td>94.286977</td>\n",
       "      <td>1.237683</td>\n",
       "    </tr>\n",
       "    <tr>\n",
       "      <th>534</th>\n",
       "      <td>84.237928</td>\n",
       "      <td>0.842715</td>\n",
       "    </tr>\n",
       "    <tr>\n",
       "      <th>1008</th>\n",
       "      <td>80.633331</td>\n",
       "      <td>2.000000</td>\n",
       "    </tr>\n",
       "  </tbody>\n",
       "</table>\n",
       "</div>"
      ],
      "text/plain": [
       "          input    output\n",
       "300   82.896050  1.467981\n",
       "405   94.824780  1.216252\n",
       "411   73.465372  1.493731\n",
       "530   94.286977  1.237683\n",
       "534   84.237928  0.842715\n",
       "1008  80.633331  2.000000"
      ]
     },
     "execution_count": 22,
     "metadata": {},
     "output_type": "execute_result"
    }
   ],
   "source": [
    "data[((data.output)**(1/3) > UL) | ((data.output)**(1/3) < LL)]"
   ]
  },
  {
   "cell_type": "code",
   "execution_count": 23,
   "id": "8131dd7b",
   "metadata": {
    "ExecuteTime": {
     "end_time": "2023-02-11T10:46:40.026717Z",
     "start_time": "2023-02-11T10:46:39.932644Z"
    }
   },
   "outputs": [
    {
     "data": {
      "text/plain": [
       "<AxesSubplot:xlabel='output'>"
      ]
     },
     "execution_count": 23,
     "metadata": {},
     "output_type": "execute_result"
    },
    {
     "data": {
      "image/png": "[encoded data removed]",
      "text/plain": [
       "<Figure size 432x288 with 1 Axes>"
      ]
     },
     "metadata": {
      "needs_background": "light"
     },
     "output_type": "display_data"
    }
   ],
   "source": [
    "sns.boxplot((data.output)**(1/3))"
   ]
  },
  {
   "cell_type": "markdown",
   "id": "0856c939",
   "metadata": {},
   "source": [
    "## Logtransformation"
   ]
  },
  {
   "cell_type": "code",
   "execution_count": 24,
   "id": "b23e70e3",
   "metadata": {
    "ExecuteTime": {
     "end_time": "2023-02-11T10:46:40.041718Z",
     "start_time": "2023-02-11T10:46:40.028712Z"
    }
   },
   "outputs": [
    {
     "name": "stdout",
     "output_type": "stream",
     "text": [
      "3.7144582017755075 4.386224288435067 4.686571358837536\n"
     ]
    }
   ],
   "source": [
    "Q1,Q2,Q3=(np.log(data.output)).quantile(q=[0.25,0.50,0.75])\n",
    "print(Q1,Q2,Q3)"
   ]
  },
  {
   "cell_type": "code",
   "execution_count": 25,
   "id": "295b7713",
   "metadata": {
    "ExecuteTime": {
     "end_time": "2023-02-11T10:46:40.057036Z",
     "start_time": "2023-02-11T10:46:40.042675Z"
    }
   },
   "outputs": [
    {
     "name": "stdout",
     "output_type": "stream",
     "text": [
      "0.9721131570620289 2.256288466182464 6.14474109443058\n"
     ]
    }
   ],
   "source": [
    "IQR=Q3-Q1\n",
    "UL=Q3+(1.5)*IQR\n",
    "LL=Q1-(1.5)*IQR\n",
    "\n",
    "print(IQR,LL,UL)"
   ]
  },
  {
   "cell_type": "code",
   "execution_count": 26,
   "id": "08ce7612",
   "metadata": {
    "ExecuteTime": {
     "end_time": "2023-02-11T10:46:40.072595Z",
     "start_time": "2023-02-11T10:46:40.059629Z"
    }
   },
   "outputs": [
    {
     "data": {
      "text/html": [
       "<div>\n",
       "<style scoped>\n",
       "    .dataframe tbody tr th:only-of-type {\n",
       "        vertical-align: middle;\n",
       "    }\n",
       "\n",
       "    .dataframe tbody tr th {\n",
       "        vertical-align: top;\n",
       "    }\n",
       "\n",
       "    .dataframe thead th {\n",
       "        text-align: right;\n",
       "    }\n",
       "</style>\n",
       "<table border=\"1\" class=\"dataframe\">\n",
       "  <thead>\n",
       "    <tr style=\"text-align: right;\">\n",
       "      <th></th>\n",
       "      <th>input</th>\n",
       "      <th>output</th>\n",
       "    </tr>\n",
       "  </thead>\n",
       "  <tbody>\n",
       "    <tr>\n",
       "      <th>300</th>\n",
       "      <td>82.896050</td>\n",
       "      <td>1.467981</td>\n",
       "    </tr>\n",
       "    <tr>\n",
       "      <th>306</th>\n",
       "      <td>84.633331</td>\n",
       "      <td>7.000000</td>\n",
       "    </tr>\n",
       "    <tr>\n",
       "      <th>307</th>\n",
       "      <td>84.775244</td>\n",
       "      <td>8.755985</td>\n",
       "    </tr>\n",
       "    <tr>\n",
       "      <th>398</th>\n",
       "      <td>58.916087</td>\n",
       "      <td>5.150802</td>\n",
       "    </tr>\n",
       "    <tr>\n",
       "      <th>399</th>\n",
       "      <td>71.036419</td>\n",
       "      <td>7.107772</td>\n",
       "    </tr>\n",
       "    <tr>\n",
       "      <th>404</th>\n",
       "      <td>80.633331</td>\n",
       "      <td>5.000000</td>\n",
       "    </tr>\n",
       "    <tr>\n",
       "      <th>405</th>\n",
       "      <td>94.824780</td>\n",
       "      <td>1.216252</td>\n",
       "    </tr>\n",
       "    <tr>\n",
       "      <th>411</th>\n",
       "      <td>73.465372</td>\n",
       "      <td>1.493731</td>\n",
       "    </tr>\n",
       "    <tr>\n",
       "      <th>414</th>\n",
       "      <td>80.214195</td>\n",
       "      <td>5.964164</td>\n",
       "    </tr>\n",
       "    <tr>\n",
       "      <th>528</th>\n",
       "      <td>84.096267</td>\n",
       "      <td>6.148041</td>\n",
       "    </tr>\n",
       "    <tr>\n",
       "      <th>529</th>\n",
       "      <td>81.960813</td>\n",
       "      <td>4.079053</td>\n",
       "    </tr>\n",
       "    <tr>\n",
       "      <th>530</th>\n",
       "      <td>94.286977</td>\n",
       "      <td>1.237683</td>\n",
       "    </tr>\n",
       "    <tr>\n",
       "      <th>534</th>\n",
       "      <td>84.237928</td>\n",
       "      <td>0.842715</td>\n",
       "    </tr>\n",
       "    <tr>\n",
       "      <th>535</th>\n",
       "      <td>80.633331</td>\n",
       "      <td>6.000000</td>\n",
       "    </tr>\n",
       "    <tr>\n",
       "      <th>538</th>\n",
       "      <td>93.864329</td>\n",
       "      <td>7.762689</td>\n",
       "    </tr>\n",
       "    <tr>\n",
       "      <th>1008</th>\n",
       "      <td>80.633331</td>\n",
       "      <td>2.000000</td>\n",
       "    </tr>\n",
       "    <tr>\n",
       "      <th>1010</th>\n",
       "      <td>72.097519</td>\n",
       "      <td>5.309929</td>\n",
       "    </tr>\n",
       "  </tbody>\n",
       "</table>\n",
       "</div>"
      ],
      "text/plain": [
       "          input    output\n",
       "300   82.896050  1.467981\n",
       "306   84.633331  7.000000\n",
       "307   84.775244  8.755985\n",
       "398   58.916087  5.150802\n",
       "399   71.036419  7.107772\n",
       "404   80.633331  5.000000\n",
       "405   94.824780  1.216252\n",
       "411   73.465372  1.493731\n",
       "414   80.214195  5.964164\n",
       "528   84.096267  6.148041\n",
       "529   81.960813  4.079053\n",
       "530   94.286977  1.237683\n",
       "534   84.237928  0.842715\n",
       "535   80.633331  6.000000\n",
       "538   93.864329  7.762689\n",
       "1008  80.633331  2.000000\n",
       "1010  72.097519  5.309929"
      ]
     },
     "execution_count": 26,
     "metadata": {},
     "output_type": "execute_result"
    }
   ],
   "source": [
    "data[((np.log(data.output))> UL) | ((np.log(data.output)) < LL)]"
   ]
  },
  {
   "cell_type": "code",
   "execution_count": 27,
   "id": "1f6d53f3",
   "metadata": {
    "ExecuteTime": {
     "end_time": "2023-02-11T10:46:40.165418Z",
     "start_time": "2023-02-11T10:46:40.074591Z"
    }
   },
   "outputs": [
    {
     "data": {
      "text/plain": [
       "<AxesSubplot:xlabel='output'>"
      ]
     },
     "execution_count": 27,
     "metadata": {},
     "output_type": "execute_result"
    },
    {
     "data": {
      "image/png": "[encoded data removed]",
      "text/plain": [
       "<Figure size 432x288 with 1 Axes>"
      ]
     },
     "metadata": {
      "needs_background": "light"
     },
     "output_type": "display_data"
    }
   ],
   "source": [
    "sns.boxplot(np.log(data.output))"
   ]
  },
  {
   "cell_type": "code",
   "execution_count": 28,
   "id": "a03f195a",
   "metadata": {
    "ExecuteTime": {
     "end_time": "2023-02-11T10:46:40.181376Z",
     "start_time": "2023-02-11T10:46:40.171400Z"
    }
   },
   "outputs": [],
   "source": [
    "## to reduce the outlier we use the transformation techinque  cube root reduces the outlier than the logtransformation "
   ]
  },
  {
   "cell_type": "code",
   "execution_count": 29,
   "id": "b18a50fc",
   "metadata": {
    "ExecuteTime": {
     "end_time": "2023-02-11T10:46:40.197353Z",
     "start_time": "2023-02-11T10:46:40.183297Z"
    }
   },
   "outputs": [],
   "source": [
    "output_cube=(data.output)**(1/3)"
   ]
  },
  {
   "cell_type": "code",
   "execution_count": 30,
   "id": "8e7c5334",
   "metadata": {
    "ExecuteTime": {
     "end_time": "2023-02-11T10:46:40.215228Z",
     "start_time": "2023-02-11T10:46:40.198328Z"
    }
   },
   "outputs": [],
   "source": [
    "data[\"output_cube\"]=(data.output)**(1/3)"
   ]
  },
  {
   "cell_type": "code",
   "execution_count": 31,
   "id": "7972ad4b",
   "metadata": {
    "ExecuteTime": {
     "end_time": "2023-02-11T10:46:40.229191Z",
     "start_time": "2023-02-11T10:46:40.218222Z"
    }
   },
   "outputs": [
    {
     "name": "stdout",
     "output_type": "stream",
     "text": [
      "<class 'pandas.core.frame.DataFrame'>\n",
      "Int64Index: 1091 entries, 0 to 1439\n",
      "Data columns (total 3 columns):\n",
      " #   Column       Non-Null Count  Dtype  \n",
      "---  ------       --------------  -----  \n",
      " 0   input        1091 non-null   float64\n",
      " 1   output       1091 non-null   float64\n",
      " 2   output_cube  281 non-null    float64\n",
      "dtypes: float64(3)\n",
      "memory usage: 34.1 KB\n"
     ]
    }
   ],
   "source": [
    "data.info()"
   ]
  },
  {
   "cell_type": "code",
   "execution_count": 32,
   "id": "f55a23dd",
   "metadata": {
    "ExecuteTime": {
     "end_time": "2023-02-11T10:46:40.245188Z",
     "start_time": "2023-02-11T10:46:40.231187Z"
    }
   },
   "outputs": [],
   "source": [
    "## we cannot insert the nan  values tho the output_tran as there are more nan values in the column"
   ]
  },
  {
   "cell_type": "markdown",
   "id": "5625ef7e",
   "metadata": {},
   "source": [
    "## REMOVING THE OUTLIERS FROM DATA"
   ]
  },
  {
   "cell_type": "code",
   "execution_count": 33,
   "id": "0fd2e10c",
   "metadata": {
    "ExecuteTime": {
     "end_time": "2023-02-11T10:46:40.261106Z",
     "start_time": "2023-02-11T10:46:40.246189Z"
    }
   },
   "outputs": [],
   "source": [
    "## removing the outliers from the data"
   ]
  },
  {
   "cell_type": "code",
   "execution_count": 34,
   "id": "c367c5c1",
   "metadata": {
    "ExecuteTime": {
     "end_time": "2023-02-11T10:46:40.277034Z",
     "start_time": "2023-02-11T10:46:40.263101Z"
    }
   },
   "outputs": [
    {
     "name": "stdout",
     "output_type": "stream",
     "text": [
      "-76.9885951 -46.30093846 5.0754008045\n"
     ]
    }
   ],
   "source": [
    "Q1,Q2,Q3=((data.output).quantile(q=[0.25,0.50,0.75]))\n",
    "print(Q1,Q2,Q3)"
   ]
  },
  {
   "cell_type": "code",
   "execution_count": 35,
   "id": "80254684",
   "metadata": {
    "ExecuteTime": {
     "end_time": "2023-02-11T10:46:40.292484Z",
     "start_time": "2023-02-11T10:46:40.277992Z"
    }
   },
   "outputs": [
    {
     "name": "stdout",
     "output_type": "stream",
     "text": [
      "82.0639959045 -200.08458895675 128.17139466125\n"
     ]
    }
   ],
   "source": [
    "IQR=Q3-Q1\n",
    "UL=Q3+(1.5)*IQR\n",
    "LL=Q1-(1.5)*IQR\n",
    "\n",
    "print(IQR,LL,UL)"
   ]
  },
  {
   "cell_type": "code",
   "execution_count": 36,
   "id": "69fa4b93",
   "metadata": {
    "ExecuteTime": {
     "end_time": "2023-02-11T10:46:40.308402Z",
     "start_time": "2023-02-11T10:46:40.294478Z"
    }
   },
   "outputs": [],
   "source": [
    "temp_data=data[~(data.output > UL) | (data.output < LL)]"
   ]
  },
  {
   "cell_type": "code",
   "execution_count": 37,
   "id": "724b75d6",
   "metadata": {
    "ExecuteTime": {
     "end_time": "2023-02-11T10:46:40.323702Z",
     "start_time": "2023-02-11T10:46:40.310397Z"
    }
   },
   "outputs": [
    {
     "data": {
      "text/plain": [
       "355     1\n",
       "1071    1\n",
       "1088    1\n",
       "1086    1\n",
       "1085    1\n",
       "1081    1\n",
       "1073    1\n",
       "1072    1\n",
       "1066    1\n",
       "359     1\n",
       "480     1\n",
       "477     1\n",
       "475     1\n",
       "473     1\n",
       "362     1\n",
       "360     1\n",
       "1090    1\n",
       "dtype: int64"
      ]
     },
     "execution_count": 37,
     "metadata": {},
     "output_type": "execute_result"
    }
   ],
   "source": [
    "data[(data.output > UL) | (data.output < LL)].index.value_counts()"
   ]
  },
  {
   "cell_type": "code",
   "execution_count": 38,
   "id": "c5e18642",
   "metadata": {
    "ExecuteTime": {
     "end_time": "2023-02-11T10:46:40.339651Z",
     "start_time": "2023-02-11T10:46:40.325658Z"
    }
   },
   "outputs": [
    {
     "data": {
      "text/html": [
       "<div>\n",
       "<style scoped>\n",
       "    .dataframe tbody tr th:only-of-type {\n",
       "        vertical-align: middle;\n",
       "    }\n",
       "\n",
       "    .dataframe tbody tr th {\n",
       "        vertical-align: top;\n",
       "    }\n",
       "\n",
       "    .dataframe thead th {\n",
       "        text-align: right;\n",
       "    }\n",
       "</style>\n",
       "<table border=\"1\" class=\"dataframe\">\n",
       "  <thead>\n",
       "    <tr style=\"text-align: right;\">\n",
       "      <th></th>\n",
       "      <th>input</th>\n",
       "      <th>output</th>\n",
       "      <th>output_cube</th>\n",
       "    </tr>\n",
       "  </thead>\n",
       "  <tbody>\n",
       "    <tr>\n",
       "      <th>0</th>\n",
       "      <td>-122.740667</td>\n",
       "      <td>-130.572085</td>\n",
       "      <td>NaN</td>\n",
       "    </tr>\n",
       "    <tr>\n",
       "      <th>1</th>\n",
       "      <td>-121.531419</td>\n",
       "      <td>-129.938929</td>\n",
       "      <td>NaN</td>\n",
       "    </tr>\n",
       "    <tr>\n",
       "      <th>2</th>\n",
       "      <td>-134.917019</td>\n",
       "      <td>-130.141832</td>\n",
       "      <td>NaN</td>\n",
       "    </tr>\n",
       "    <tr>\n",
       "      <th>3</th>\n",
       "      <td>-120.605951</td>\n",
       "      <td>-125.760932</td>\n",
       "      <td>NaN</td>\n",
       "    </tr>\n",
       "    <tr>\n",
       "      <th>4</th>\n",
       "      <td>-129.894781</td>\n",
       "      <td>-112.785214</td>\n",
       "      <td>NaN</td>\n",
       "    </tr>\n",
       "    <tr>\n",
       "      <th>...</th>\n",
       "      <td>...</td>\n",
       "      <td>...</td>\n",
       "      <td>...</td>\n",
       "    </tr>\n",
       "    <tr>\n",
       "      <th>1107</th>\n",
       "      <td>-119.954237</td>\n",
       "      <td>123.609122</td>\n",
       "      <td>4.981386</td>\n",
       "    </tr>\n",
       "    <tr>\n",
       "      <th>1108</th>\n",
       "      <td>-109.942155</td>\n",
       "      <td>127.197394</td>\n",
       "      <td>5.029129</td>\n",
       "    </tr>\n",
       "    <tr>\n",
       "      <th>1109</th>\n",
       "      <td>-111.515368</td>\n",
       "      <td>128.170885</td>\n",
       "      <td>5.041926</td>\n",
       "    </tr>\n",
       "    <tr>\n",
       "      <th>1110</th>\n",
       "      <td>-110.344221</td>\n",
       "      <td>123.087950</td>\n",
       "      <td>4.974375</td>\n",
       "    </tr>\n",
       "    <tr>\n",
       "      <th>1439</th>\n",
       "      <td>17.462087</td>\n",
       "      <td>-46.300938</td>\n",
       "      <td>NaN</td>\n",
       "    </tr>\n",
       "  </tbody>\n",
       "</table>\n",
       "<p>1074 rows × 3 columns</p>\n",
       "</div>"
      ],
      "text/plain": [
       "           input      output  output_cube\n",
       "0    -122.740667 -130.572085          NaN\n",
       "1    -121.531419 -129.938929          NaN\n",
       "2    -134.917019 -130.141832          NaN\n",
       "3    -120.605951 -125.760932          NaN\n",
       "4    -129.894781 -112.785214          NaN\n",
       "...          ...         ...          ...\n",
       "1107 -119.954237  123.609122     4.981386\n",
       "1108 -109.942155  127.197394     5.029129\n",
       "1109 -111.515368  128.170885     5.041926\n",
       "1110 -110.344221  123.087950     4.974375\n",
       "1439   17.462087  -46.300938          NaN\n",
       "\n",
       "[1074 rows x 3 columns]"
      ]
     },
     "execution_count": 38,
     "metadata": {},
     "output_type": "execute_result"
    }
   ],
   "source": [
    "temp_data"
   ]
  },
  {
   "cell_type": "code",
   "execution_count": 39,
   "id": "27db437d",
   "metadata": {
    "ExecuteTime": {
     "end_time": "2023-02-11T10:46:40.354620Z",
     "start_time": "2023-02-11T10:46:40.342621Z"
    }
   },
   "outputs": [],
   "source": [
    "X=temp_data[[\"input\"]]\n",
    "y=temp_data[\"output\"]"
   ]
  },
  {
   "cell_type": "code",
   "execution_count": 40,
   "id": "5e3ace31",
   "metadata": {
    "ExecuteTime": {
     "end_time": "2023-02-11T10:46:40.493961Z",
     "start_time": "2023-02-11T10:46:40.357573Z"
    }
   },
   "outputs": [],
   "source": [
    "from sklearn.model_selection import train_test_split\n",
    "X_train,X_test,y_train,y_test=train_test_split(X,y,test_size=0.30,random_state=2)"
   ]
  },
  {
   "cell_type": "code",
   "execution_count": 41,
   "id": "0431612e",
   "metadata": {
    "ExecuteTime": {
     "end_time": "2023-02-11T10:46:40.509646Z",
     "start_time": "2023-02-11T10:46:40.495719Z"
    }
   },
   "outputs": [],
   "source": [
    "from sklearn.preprocessing import StandardScaler\n",
    "scaler=StandardScaler()\n",
    "X_train_rescaled=pd.DataFrame(scaler.fit_transform(X_train),columns=X_train.columns,\n",
    "                             index=X_train.index)"
   ]
  },
  {
   "cell_type": "code",
   "execution_count": 42,
   "id": "0bcb98aa",
   "metadata": {
    "ExecuteTime": {
     "end_time": "2023-02-11T10:46:40.524604Z",
     "start_time": "2023-02-11T10:46:40.511679Z"
    }
   },
   "outputs": [],
   "source": [
    "X_test_rescaled=pd.DataFrame(scaler.transform(X_test),columns=X_test.columns,index=X_test.index)"
   ]
  },
  {
   "cell_type": "markdown",
   "id": "4bd23c54",
   "metadata": {},
   "source": [
    "## ALGORITHMS"
   ]
  },
  {
   "cell_type": "markdown",
   "id": "8d75af77",
   "metadata": {},
   "source": [
    "### LinearRegression"
   ]
  },
  {
   "cell_type": "code",
   "execution_count": 43,
   "id": "fb58987a",
   "metadata": {
    "ExecuteTime": {
     "end_time": "2023-02-11T10:46:40.587476Z",
     "start_time": "2023-02-11T10:46:40.525601Z"
    }
   },
   "outputs": [
    {
     "data": {
      "text/plain": [
       "LinearRegression()"
      ]
     },
     "execution_count": 43,
     "metadata": {},
     "output_type": "execute_result"
    }
   ],
   "source": [
    "from sklearn.linear_model import LinearRegression\n",
    "linear=LinearRegression()\n",
    "linear.fit(X_train_rescaled,y_train)"
   ]
  },
  {
   "cell_type": "code",
   "execution_count": 44,
   "id": "2cef6ec5",
   "metadata": {
    "ExecuteTime": {
     "end_time": "2023-02-11T10:46:40.602396Z",
     "start_time": "2023-02-11T10:46:40.588433Z"
    }
   },
   "outputs": [],
   "source": [
    "y_test_pred=linear.predict(X_test_rescaled)"
   ]
  },
  {
   "cell_type": "code",
   "execution_count": 45,
   "id": "3e50f202",
   "metadata": {
    "ExecuteTime": {
     "end_time": "2023-02-11T10:46:40.618392Z",
     "start_time": "2023-02-11T10:46:40.604391Z"
    }
   },
   "outputs": [],
   "source": [
    "from sklearn import metrics\n",
    "linear_abs=metrics.mean_absolute_error(y_test,y_test_pred)\n",
    "linear_sqrt=metrics.mean_squared_error(y_test,y_test_pred)\n",
    "linear_root=np.sqrt(metrics.mean_squared_error(y_test,y_test_pred))"
   ]
  },
  {
   "cell_type": "markdown",
   "id": "5d548a60",
   "metadata": {},
   "source": [
    "### Decision tree"
   ]
  },
  {
   "cell_type": "code",
   "execution_count": 46,
   "id": "290f98f5",
   "metadata": {
    "ExecuteTime": {
     "end_time": "2023-02-11T10:46:40.679584Z",
     "start_time": "2023-02-11T10:46:40.619350Z"
    }
   },
   "outputs": [
    {
     "data": {
      "text/plain": [
       "DecisionTreeRegressor()"
      ]
     },
     "execution_count": 46,
     "metadata": {},
     "output_type": "execute_result"
    }
   ],
   "source": [
    "from sklearn.tree import DecisionTreeRegressor\n",
    "tree=DecisionTreeRegressor()\n",
    "tree.fit(X_train_rescaled,y_train)"
   ]
  },
  {
   "cell_type": "code",
   "execution_count": 47,
   "id": "feb53343",
   "metadata": {
    "ExecuteTime": {
     "end_time": "2023-02-11T10:46:40.695542Z",
     "start_time": "2023-02-11T10:46:40.680582Z"
    }
   },
   "outputs": [],
   "source": [
    "y_test_pred=tree.predict(X_test_rescaled)"
   ]
  },
  {
   "cell_type": "code",
   "execution_count": 48,
   "id": "ffb741f8",
   "metadata": {
    "ExecuteTime": {
     "end_time": "2023-02-11T10:46:40.711250Z",
     "start_time": "2023-02-11T10:46:40.696541Z"
    }
   },
   "outputs": [],
   "source": [
    "tree_abs=metrics.mean_absolute_error(y_test,y_test_pred)\n",
    "tree_sqrt=metrics.mean_squared_error(y_test,y_test_pred)\n",
    "tree_root=np.sqrt(metrics.mean_squared_error(y_test,y_test_pred))"
   ]
  },
  {
   "cell_type": "markdown",
   "id": "7588f9a0",
   "metadata": {},
   "source": [
    "### KNN"
   ]
  },
  {
   "cell_type": "code",
   "execution_count": 49,
   "id": "bdde312f",
   "metadata": {
    "ExecuteTime": {
     "end_time": "2023-02-11T10:46:40.727293Z",
     "start_time": "2023-02-11T10:46:40.713245Z"
    }
   },
   "outputs": [
    {
     "data": {
      "text/plain": [
       "KNeighborsRegressor()"
      ]
     },
     "execution_count": 49,
     "metadata": {},
     "output_type": "execute_result"
    }
   ],
   "source": [
    "from sklearn.neighbors import KNeighborsRegressor\n",
    "neighbors=KNeighborsRegressor()\n",
    "neighbors.fit(X_train_rescaled,y_train)"
   ]
  },
  {
   "cell_type": "code",
   "execution_count": 50,
   "id": "6b0e9925",
   "metadata": {
    "ExecuteTime": {
     "end_time": "2023-02-11T10:46:40.743210Z",
     "start_time": "2023-02-11T10:46:40.732230Z"
    }
   },
   "outputs": [],
   "source": [
    "y_test_pred=neighbors.predict(X_test_rescaled)"
   ]
  },
  {
   "cell_type": "code",
   "execution_count": 51,
   "id": "36ad07cf",
   "metadata": {
    "ExecuteTime": {
     "end_time": "2023-02-11T10:46:40.759151Z",
     "start_time": "2023-02-11T10:46:40.745188Z"
    }
   },
   "outputs": [],
   "source": [
    "neighbors_abs=metrics.mean_absolute_error(y_test,y_test_pred)\n",
    "neighbors_sqrt=metrics.mean_squared_error(y_test,y_test_pred)\n",
    "neighbors_root=np.sqrt(metrics.mean_squared_error(y_test,y_test_pred))"
   ]
  },
  {
   "cell_type": "markdown",
   "id": "795e012e",
   "metadata": {
    "ExecuteTime": {
     "end_time": "2023-02-11T10:00:54.313794Z",
     "start_time": "2023-02-11T10:00:54.305800Z"
    }
   },
   "source": [
    "### Ensemble(Random Forest)"
   ]
  },
  {
   "cell_type": "code",
   "execution_count": 52,
   "id": "3faf5c40",
   "metadata": {
    "ExecuteTime": {
     "end_time": "2023-02-11T10:46:40.948918Z",
     "start_time": "2023-02-11T10:46:40.760150Z"
    }
   },
   "outputs": [
    {
     "data": {
      "text/plain": [
       "RandomForestRegressor()"
      ]
     },
     "execution_count": 52,
     "metadata": {},
     "output_type": "execute_result"
    }
   ],
   "source": [
    "from sklearn.ensemble import RandomForestRegressor\n",
    "ensemble=RandomForestRegressor()\n",
    "ensemble.fit(X_train_rescaled,y_train)"
   ]
  },
  {
   "cell_type": "code",
   "execution_count": 53,
   "id": "b3bd2afd",
   "metadata": {
    "ExecuteTime": {
     "end_time": "2023-02-11T10:46:41.028241Z",
     "start_time": "2023-02-11T10:46:40.949880Z"
    }
   },
   "outputs": [],
   "source": [
    "y_test_pred=ensemble.predict(X_test_rescaled)"
   ]
  },
  {
   "cell_type": "code",
   "execution_count": 54,
   "id": "d64ffbd3",
   "metadata": {
    "ExecuteTime": {
     "end_time": "2023-02-11T10:46:41.044194Z",
     "start_time": "2023-02-11T10:46:41.032232Z"
    }
   },
   "outputs": [],
   "source": [
    "ensemble_abs=metrics.mean_absolute_error(y_test,y_test_pred)\n",
    "ensemble_sqrt=metrics.mean_squared_error(y_test,y_test_pred)\n",
    "ensemble_root=np.sqrt(metrics.mean_squared_error(y_test,y_test_pred))"
   ]
  },
  {
   "cell_type": "markdown",
   "id": "a6ce7897",
   "metadata": {},
   "source": [
    "### Ada boost"
   ]
  },
  {
   "cell_type": "code",
   "execution_count": 55,
   "id": "079a6d46",
   "metadata": {
    "ExecuteTime": {
     "end_time": "2023-02-11T10:46:41.075441Z",
     "start_time": "2023-02-11T10:46:41.046192Z"
    }
   },
   "outputs": [
    {
     "data": {
      "text/plain": [
       "AdaBoostRegressor()"
      ]
     },
     "execution_count": 55,
     "metadata": {},
     "output_type": "execute_result"
    }
   ],
   "source": [
    "from sklearn.ensemble import AdaBoostRegressor\n",
    "ada_boost=AdaBoostRegressor()\n",
    "ada_boost.fit(X_train_rescaled,y_train)"
   ]
  },
  {
   "cell_type": "code",
   "execution_count": 56,
   "id": "64b5a6e1",
   "metadata": {
    "ExecuteTime": {
     "end_time": "2023-02-11T10:46:41.090716Z",
     "start_time": "2023-02-11T10:46:41.076437Z"
    }
   },
   "outputs": [],
   "source": [
    "y_test_pred=ada_boost.predict(X_test_rescaled)"
   ]
  },
  {
   "cell_type": "code",
   "execution_count": 57,
   "id": "4fbb3fca",
   "metadata": {
    "ExecuteTime": {
     "end_time": "2023-02-11T10:46:41.106704Z",
     "start_time": "2023-02-11T10:46:41.092710Z"
    }
   },
   "outputs": [],
   "source": [
    "ada_abs=metrics.mean_absolute_error(y_test,y_test_pred)\n",
    "ada_sqrt=metrics.mean_squared_error(y_test,y_test_pred)\n",
    "ada_root=np.sqrt(metrics.mean_squared_error(y_test,y_test_pred))"
   ]
  },
  {
   "cell_type": "markdown",
   "id": "4443a38a",
   "metadata": {},
   "source": [
    "### Gradient"
   ]
  },
  {
   "cell_type": "code",
   "execution_count": 58,
   "id": "d7d546b0",
   "metadata": {
    "ExecuteTime": {
     "end_time": "2023-02-11T10:46:41.170658Z",
     "start_time": "2023-02-11T10:46:41.108669Z"
    }
   },
   "outputs": [
    {
     "data": {
      "text/plain": [
       "GradientBoostingRegressor()"
      ]
     },
     "execution_count": 58,
     "metadata": {},
     "output_type": "execute_result"
    }
   ],
   "source": [
    "from sklearn.ensemble import GradientBoostingRegressor\n",
    "gradient_boost=GradientBoostingRegressor()\n",
    "gradient_boost.fit(X_train_rescaled,y_train)"
   ]
  },
  {
   "cell_type": "code",
   "execution_count": 59,
   "id": "824dc339",
   "metadata": {
    "ExecuteTime": {
     "end_time": "2023-02-11T10:46:41.202106Z",
     "start_time": "2023-02-11T10:46:41.178140Z"
    }
   },
   "outputs": [],
   "source": [
    "y_test_pred=gradient_boost.predict(X_test_rescaled)"
   ]
  },
  {
   "cell_type": "code",
   "execution_count": 60,
   "id": "cfebecf5",
   "metadata": {
    "ExecuteTime": {
     "end_time": "2023-02-11T10:46:41.217986Z",
     "start_time": "2023-02-11T10:46:41.203053Z"
    }
   },
   "outputs": [],
   "source": [
    "from sklearn import metrics\n",
    "gra_abs=metrics.mean_absolute_error(y_test,y_test_pred)\n",
    "gra_sqrt=metrics.mean_squared_error(y_test,y_test_pred)\n",
    "gra_root=np.sqrt(metrics.mean_squared_error(y_test,y_test_pred))"
   ]
  },
  {
   "cell_type": "code",
   "execution_count": 61,
   "id": "9c1fa9bc",
   "metadata": {
    "ExecuteTime": {
     "end_time": "2023-02-11T10:46:41.233634Z",
     "start_time": "2023-02-11T10:46:41.219409Z"
    }
   },
   "outputs": [],
   "source": [
    "data_withoutliers=pd.DataFrame({\"Algorithms\":[\"Linearregression\",\"KNN\",\"Decisontree\",\"Randomforest\",\"Adaboost\",\"gradient_boost\"],\n",
    "    \"mean_absolute\":[linear_abs,neighbors_abs,tree_abs,ensemble_abs,ada_abs,gra_abs],\n",
    "                     \"mean_square\":[linear_sqrt,neighbors_sqrt,tree_sqrt,ensemble_sqrt,ada_sqrt,gra_sqrt],\n",
    "                     \"mean_root_square\":[linear_root,neighbors_root,tree_root,ensemble_root,ada_root,gra_root]})"
   ]
  },
  {
   "cell_type": "code",
   "execution_count": 62,
   "id": "eae8c9b2",
   "metadata": {
    "ExecuteTime": {
     "end_time": "2023-02-11T10:46:41.249447Z",
     "start_time": "2023-02-11T10:46:41.234485Z"
    }
   },
   "outputs": [
    {
     "data": {
      "text/html": [
       "<div>\n",
       "<style scoped>\n",
       "    .dataframe tbody tr th:only-of-type {\n",
       "        vertical-align: middle;\n",
       "    }\n",
       "\n",
       "    .dataframe tbody tr th {\n",
       "        vertical-align: top;\n",
       "    }\n",
       "\n",
       "    .dataframe thead th {\n",
       "        text-align: right;\n",
       "    }\n",
       "</style>\n",
       "<table border=\"1\" class=\"dataframe\">\n",
       "  <thead>\n",
       "    <tr style=\"text-align: right;\">\n",
       "      <th></th>\n",
       "      <th>Algorithms</th>\n",
       "      <th>mean_absolute</th>\n",
       "      <th>mean_square</th>\n",
       "      <th>mean_root_square</th>\n",
       "    </tr>\n",
       "  </thead>\n",
       "  <tbody>\n",
       "    <tr>\n",
       "      <th>0</th>\n",
       "      <td>Linearregression</td>\n",
       "      <td>40.352873</td>\n",
       "      <td>2465.133302</td>\n",
       "      <td>49.650109</td>\n",
       "    </tr>\n",
       "    <tr>\n",
       "      <th>1</th>\n",
       "      <td>KNN</td>\n",
       "      <td>20.284606</td>\n",
       "      <td>817.271270</td>\n",
       "      <td>28.587957</td>\n",
       "    </tr>\n",
       "    <tr>\n",
       "      <th>2</th>\n",
       "      <td>Decisontree</td>\n",
       "      <td>24.640307</td>\n",
       "      <td>1452.380045</td>\n",
       "      <td>38.110104</td>\n",
       "    </tr>\n",
       "    <tr>\n",
       "      <th>3</th>\n",
       "      <td>Randomforest</td>\n",
       "      <td>21.718397</td>\n",
       "      <td>979.993778</td>\n",
       "      <td>31.304852</td>\n",
       "    </tr>\n",
       "    <tr>\n",
       "      <th>4</th>\n",
       "      <td>Adaboost</td>\n",
       "      <td>25.842476</td>\n",
       "      <td>1198.079392</td>\n",
       "      <td>34.613283</td>\n",
       "    </tr>\n",
       "    <tr>\n",
       "      <th>5</th>\n",
       "      <td>gradient_boost</td>\n",
       "      <td>18.653870</td>\n",
       "      <td>713.104127</td>\n",
       "      <td>26.704010</td>\n",
       "    </tr>\n",
       "  </tbody>\n",
       "</table>\n",
       "</div>"
      ],
      "text/plain": [
       "         Algorithms  mean_absolute  mean_square  mean_root_square\n",
       "0  Linearregression      40.352873  2465.133302         49.650109\n",
       "1               KNN      20.284606   817.271270         28.587957\n",
       "2       Decisontree      24.640307  1452.380045         38.110104\n",
       "3      Randomforest      21.718397   979.993778         31.304852\n",
       "4          Adaboost      25.842476  1198.079392         34.613283\n",
       "5    gradient_boost      18.653870   713.104127         26.704010"
      ]
     },
     "execution_count": 62,
     "metadata": {},
     "output_type": "execute_result"
    }
   ],
   "source": [
    "data_withoutliers"
   ]
  },
  {
   "cell_type": "markdown",
   "id": "c6238f1c",
   "metadata": {},
   "source": [
    "## WITH OUTLIERS INTHE DATA"
   ]
  },
  {
   "cell_type": "code",
   "execution_count": 63,
   "id": "019104de",
   "metadata": {
    "ExecuteTime": {
     "end_time": "2023-02-11T10:46:41.265406Z",
     "start_time": "2023-02-11T10:46:41.250445Z"
    }
   },
   "outputs": [],
   "source": [
    "X=data[[\"input\"]]\n",
    "y=data[\"output\"]"
   ]
  },
  {
   "cell_type": "code",
   "execution_count": 64,
   "id": "69b9c4b5",
   "metadata": {
    "ExecuteTime": {
     "end_time": "2023-02-11T10:46:41.281665Z",
     "start_time": "2023-02-11T10:46:41.267402Z"
    }
   },
   "outputs": [],
   "source": [
    "from sklearn.model_selection import train_test_split\n",
    "X_train,X_test,y_train,y_test=train_test_split(X,y,test_size=0.30,random_state=2)"
   ]
  },
  {
   "cell_type": "code",
   "execution_count": 65,
   "id": "cc8924ca",
   "metadata": {
    "ExecuteTime": {
     "end_time": "2023-02-11T10:46:41.297727Z",
     "start_time": "2023-02-11T10:46:41.282665Z"
    }
   },
   "outputs": [],
   "source": [
    "from sklearn.preprocessing import StandardScaler\n",
    "scaler=StandardScaler()\n",
    "X_train_rescaled=pd.DataFrame(scaler.fit_transform(X_train),columns=X_train.columns,\n",
    "                             index=X_train.index)"
   ]
  },
  {
   "cell_type": "code",
   "execution_count": 66,
   "id": "296bddb5",
   "metadata": {
    "ExecuteTime": {
     "end_time": "2023-02-11T10:46:41.313803Z",
     "start_time": "2023-02-11T10:46:41.298576Z"
    }
   },
   "outputs": [],
   "source": [
    "X_test_rescaled=pd.DataFrame(scaler.transform(X_test),columns=X_test.columns,index=X_test.index)"
   ]
  },
  {
   "cell_type": "markdown",
   "id": "3727c8a3",
   "metadata": {},
   "source": [
    "### ALGORITHMS"
   ]
  },
  {
   "cell_type": "markdown",
   "id": "fd5fc4e9",
   "metadata": {},
   "source": [
    "### LinearRegression"
   ]
  },
  {
   "cell_type": "code",
   "execution_count": 67,
   "id": "1be4286b",
   "metadata": {
    "ExecuteTime": {
     "end_time": "2023-02-11T10:46:41.329793Z",
     "start_time": "2023-02-11T10:46:41.314804Z"
    }
   },
   "outputs": [
    {
     "data": {
      "text/plain": [
       "LinearRegression()"
      ]
     },
     "execution_count": 67,
     "metadata": {},
     "output_type": "execute_result"
    }
   ],
   "source": [
    "from sklearn.linear_model import LinearRegression\n",
    "linear=LinearRegression()\n",
    "linear.fit(X_train_rescaled,y_train)"
   ]
  },
  {
   "cell_type": "code",
   "execution_count": 68,
   "id": "d57cc0db",
   "metadata": {
    "ExecuteTime": {
     "end_time": "2023-02-11T10:46:41.345770Z",
     "start_time": "2023-02-11T10:46:41.330795Z"
    }
   },
   "outputs": [],
   "source": [
    "y_test_pred=linear.predict(X_test_rescaled)"
   ]
  },
  {
   "cell_type": "code",
   "execution_count": 69,
   "id": "a72954f5",
   "metadata": {
    "ExecuteTime": {
     "end_time": "2023-02-11T10:46:41.361816Z",
     "start_time": "2023-02-11T10:46:41.346809Z"
    }
   },
   "outputs": [],
   "source": [
    "from sklearn import metrics\n",
    "linear_abs=metrics.mean_absolute_error(y_test,y_test_pred)\n",
    "linear_sqrt=metrics.mean_squared_error(y_test,y_test_pred)\n",
    "linear_root=np.sqrt(metrics.mean_squared_error(y_test,y_test_pred))"
   ]
  },
  {
   "cell_type": "markdown",
   "id": "c8d4ee96",
   "metadata": {},
   "source": [
    "### Decision tree"
   ]
  },
  {
   "cell_type": "code",
   "execution_count": 70,
   "id": "437c288c",
   "metadata": {
    "ExecuteTime": {
     "end_time": "2023-02-11T10:46:41.376993Z",
     "start_time": "2023-02-11T10:46:41.362732Z"
    }
   },
   "outputs": [
    {
     "data": {
      "text/plain": [
       "DecisionTreeRegressor()"
      ]
     },
     "execution_count": 70,
     "metadata": {},
     "output_type": "execute_result"
    }
   ],
   "source": [
    "from sklearn.tree import DecisionTreeRegressor\n",
    "tree=DecisionTreeRegressor()\n",
    "tree.fit(X_train_rescaled,y_train)"
   ]
  },
  {
   "cell_type": "code",
   "execution_count": 71,
   "id": "ae115ffc",
   "metadata": {
    "ExecuteTime": {
     "end_time": "2023-02-11T10:46:41.392468Z",
     "start_time": "2023-02-11T10:46:41.377951Z"
    }
   },
   "outputs": [],
   "source": [
    "y_test_pred=tree.predict(X_test_rescaled)"
   ]
  },
  {
   "cell_type": "code",
   "execution_count": 72,
   "id": "071af04f",
   "metadata": {
    "ExecuteTime": {
     "end_time": "2023-02-11T10:46:41.408234Z",
     "start_time": "2023-02-11T10:46:41.394462Z"
    }
   },
   "outputs": [],
   "source": [
    "from sklearn import metrics\n",
    "tree_abs=metrics.mean_absolute_error(y_test,y_test_pred)\n",
    "tree_sqrt=metrics.mean_squared_error(y_test,y_test_pred)\n",
    "tree_root=np.sqrt(metrics.mean_squared_error(y_test,y_test_pred))"
   ]
  },
  {
   "cell_type": "markdown",
   "id": "069b15f2",
   "metadata": {},
   "source": [
    "### KNN"
   ]
  },
  {
   "cell_type": "code",
   "execution_count": 73,
   "id": "7336accd",
   "metadata": {
    "ExecuteTime": {
     "end_time": "2023-02-11T10:46:41.423648Z",
     "start_time": "2023-02-11T10:46:41.410220Z"
    }
   },
   "outputs": [
    {
     "data": {
      "text/plain": [
       "KNeighborsRegressor()"
      ]
     },
     "execution_count": 73,
     "metadata": {},
     "output_type": "execute_result"
    }
   ],
   "source": [
    "from sklearn.neighbors import KNeighborsRegressor\n",
    "neighbors=KNeighborsRegressor()\n",
    "neighbors.fit(X_train_rescaled,y_train)"
   ]
  },
  {
   "cell_type": "code",
   "execution_count": 74,
   "id": "58707bbd",
   "metadata": {
    "ExecuteTime": {
     "end_time": "2023-02-11T10:46:41.438797Z",
     "start_time": "2023-02-11T10:46:41.426470Z"
    }
   },
   "outputs": [],
   "source": [
    "y_test_pred=neighbors.predict(X_test_rescaled)"
   ]
  },
  {
   "cell_type": "code",
   "execution_count": 75,
   "id": "9aa606ed",
   "metadata": {
    "ExecuteTime": {
     "end_time": "2023-02-11T10:46:41.454604Z",
     "start_time": "2023-02-11T10:46:41.440795Z"
    }
   },
   "outputs": [],
   "source": [
    "from sklearn import metrics\n",
    "neighbors_abs=metrics.mean_absolute_error(y_test,y_test_pred)\n",
    "neighbors_sqrt=metrics.mean_squared_error(y_test,y_test_pred)\n",
    "neighbors_root=np.sqrt(metrics.mean_squared_error(y_test,y_test_pred))"
   ]
  },
  {
   "cell_type": "markdown",
   "id": "e6d4070d",
   "metadata": {},
   "source": [
    "### Ensemble(Randomforest)"
   ]
  },
  {
   "cell_type": "code",
   "execution_count": 76,
   "id": "84b8af0a",
   "metadata": {
    "ExecuteTime": {
     "end_time": "2023-02-11T10:46:41.612226Z",
     "start_time": "2023-02-11T10:46:41.455604Z"
    }
   },
   "outputs": [
    {
     "data": {
      "text/plain": [
       "RandomForestRegressor()"
      ]
     },
     "execution_count": 76,
     "metadata": {},
     "output_type": "execute_result"
    }
   ],
   "source": [
    "from sklearn.ensemble import RandomForestRegressor\n",
    "ensemble=RandomForestRegressor()\n",
    "ensemble.fit(X_train_rescaled,y_train)"
   ]
  },
  {
   "cell_type": "code",
   "execution_count": 77,
   "id": "414a2a3e",
   "metadata": {
    "ExecuteTime": {
     "end_time": "2023-02-11T10:46:41.643468Z",
     "start_time": "2023-02-11T10:46:41.613183Z"
    }
   },
   "outputs": [],
   "source": [
    "y_test_pred=ensemble.predict(X_test_rescaled)"
   ]
  },
  {
   "cell_type": "code",
   "execution_count": 78,
   "id": "6d155504",
   "metadata": {
    "ExecuteTime": {
     "end_time": "2023-02-11T10:46:41.658757Z",
     "start_time": "2023-02-11T10:46:41.644304Z"
    }
   },
   "outputs": [],
   "source": [
    "from sklearn import metrics\n",
    "ensemble_abs=metrics.mean_absolute_error(y_test,y_test_pred)\n",
    "ensemble_sqrt=metrics.mean_squared_error(y_test,y_test_pred)\n",
    "ensemble_root=np.sqrt(metrics.mean_squared_error(y_test,y_test_pred))"
   ]
  },
  {
   "cell_type": "markdown",
   "id": "947f3d57",
   "metadata": {},
   "source": [
    "### Ada_boost"
   ]
  },
  {
   "cell_type": "code",
   "execution_count": 79,
   "id": "14939501",
   "metadata": {
    "ExecuteTime": {
     "end_time": "2023-02-11T10:46:41.690384Z",
     "start_time": "2023-02-11T10:46:41.659755Z"
    }
   },
   "outputs": [
    {
     "data": {
      "text/plain": [
       "AdaBoostRegressor()"
      ]
     },
     "execution_count": 79,
     "metadata": {},
     "output_type": "execute_result"
    }
   ],
   "source": [
    "from sklearn.ensemble import AdaBoostRegressor\n",
    "ada_boost=AdaBoostRegressor()\n",
    "ada_boost.fit(X_train_rescaled,y_train)"
   ]
  },
  {
   "cell_type": "code",
   "execution_count": 80,
   "id": "a379aad5",
   "metadata": {
    "ExecuteTime": {
     "end_time": "2023-02-11T10:46:41.705627Z",
     "start_time": "2023-02-11T10:46:41.692378Z"
    }
   },
   "outputs": [],
   "source": [
    "y_test_pred=ada_boost.predict(X_test_rescaled)"
   ]
  },
  {
   "cell_type": "code",
   "execution_count": 81,
   "id": "5c673676",
   "metadata": {
    "ExecuteTime": {
     "end_time": "2023-02-11T10:46:41.721310Z",
     "start_time": "2023-02-11T10:46:41.707325Z"
    }
   },
   "outputs": [],
   "source": [
    "from sklearn import metrics\n",
    "ada_abs=metrics.mean_absolute_error(y_test,y_test_pred)\n",
    "ada_sqrt=metrics.mean_squared_error(y_test,y_test_pred)\n",
    "ada_root=np.sqrt(metrics.mean_squared_error(y_test,y_test_pred))"
   ]
  },
  {
   "cell_type": "markdown",
   "id": "ff324828",
   "metadata": {},
   "source": [
    "### Gradient "
   ]
  },
  {
   "cell_type": "code",
   "execution_count": 82,
   "id": "fc362f70",
   "metadata": {
    "ExecuteTime": {
     "end_time": "2023-02-11T10:46:41.784530Z",
     "start_time": "2023-02-11T10:46:41.728295Z"
    }
   },
   "outputs": [
    {
     "data": {
      "text/plain": [
       "GradientBoostingRegressor()"
      ]
     },
     "execution_count": 82,
     "metadata": {},
     "output_type": "execute_result"
    }
   ],
   "source": [
    "from sklearn.ensemble import GradientBoostingRegressor\n",
    "gradient_boost=GradientBoostingRegressor()\n",
    "gradient_boost.fit(X_train_rescaled,y_train)"
   ]
  },
  {
   "cell_type": "code",
   "execution_count": 83,
   "id": "05f66fea",
   "metadata": {
    "ExecuteTime": {
     "end_time": "2023-02-11T10:46:41.800633Z",
     "start_time": "2023-02-11T10:46:41.786162Z"
    }
   },
   "outputs": [],
   "source": [
    "y_test_pred=gradient_boost.predict(X_test_rescaled)"
   ]
  },
  {
   "cell_type": "code",
   "execution_count": 84,
   "id": "a3526bfa",
   "metadata": {
    "ExecuteTime": {
     "end_time": "2023-02-11T10:46:41.816401Z",
     "start_time": "2023-02-11T10:46:41.801745Z"
    }
   },
   "outputs": [],
   "source": [
    "from sklearn import metrics\n",
    "gra_abs=metrics.mean_absolute_error(y_test,y_test_pred)\n",
    "gra_sqrt=metrics.mean_squared_error(y_test,y_test_pred)\n",
    "gra_root=np.sqrt(metrics.mean_squared_error(y_test,y_test_pred))"
   ]
  },
  {
   "cell_type": "code",
   "execution_count": 85,
   "id": "1d45a6d7",
   "metadata": {
    "ExecuteTime": {
     "end_time": "2023-02-11T10:46:41.832261Z",
     "start_time": "2023-02-11T10:46:41.817298Z"
    }
   },
   "outputs": [],
   "source": [
    "data_outliers=pd.DataFrame({\"Algorithms\":[\"Linearregression\",\"KNN\",\"Decisontree\",\"Randomforest\",\"Adaboost\",\"gradient_boost\"],\n",
    "    \"mean_absolute\":[linear_abs,neighbors_abs,tree_abs,ensemble_abs,ada_abs,gra_abs],\n",
    "                     \"mean_square\":[linear_sqrt,neighbors_sqrt,tree_sqrt,ensemble_sqrt,ada_sqrt,gra_sqrt],\n",
    "                     \"mean_root_square\":[linear_root,neighbors_root,tree_root,ensemble_root,ada_root,gra_root]})"
   ]
  },
  {
   "cell_type": "code",
   "execution_count": 86,
   "id": "93a4ccad",
   "metadata": {
    "ExecuteTime": {
     "end_time": "2023-02-11T10:46:41.848059Z",
     "start_time": "2023-02-11T10:46:41.833096Z"
    }
   },
   "outputs": [
    {
     "data": {
      "text/html": [
       "<div>\n",
       "<style scoped>\n",
       "    .dataframe tbody tr th:only-of-type {\n",
       "        vertical-align: middle;\n",
       "    }\n",
       "\n",
       "    .dataframe tbody tr th {\n",
       "        vertical-align: top;\n",
       "    }\n",
       "\n",
       "    .dataframe thead th {\n",
       "        text-align: right;\n",
       "    }\n",
       "</style>\n",
       "<table border=\"1\" class=\"dataframe\">\n",
       "  <thead>\n",
       "    <tr style=\"text-align: right;\">\n",
       "      <th></th>\n",
       "      <th>Algorithms</th>\n",
       "      <th>mean_absolute</th>\n",
       "      <th>mean_square</th>\n",
       "      <th>mean_root_square</th>\n",
       "    </tr>\n",
       "  </thead>\n",
       "  <tbody>\n",
       "    <tr>\n",
       "      <th>0</th>\n",
       "      <td>Linearregression</td>\n",
       "      <td>43.337001</td>\n",
       "      <td>3058.959256</td>\n",
       "      <td>55.307859</td>\n",
       "    </tr>\n",
       "    <tr>\n",
       "      <th>1</th>\n",
       "      <td>KNN</td>\n",
       "      <td>24.655349</td>\n",
       "      <td>1514.579121</td>\n",
       "      <td>38.917594</td>\n",
       "    </tr>\n",
       "    <tr>\n",
       "      <th>2</th>\n",
       "      <td>Decisontree</td>\n",
       "      <td>27.592160</td>\n",
       "      <td>1901.510303</td>\n",
       "      <td>43.606310</td>\n",
       "    </tr>\n",
       "    <tr>\n",
       "      <th>3</th>\n",
       "      <td>Randomforest</td>\n",
       "      <td>25.401762</td>\n",
       "      <td>1547.500724</td>\n",
       "      <td>39.338286</td>\n",
       "    </tr>\n",
       "    <tr>\n",
       "      <th>4</th>\n",
       "      <td>Adaboost</td>\n",
       "      <td>29.757865</td>\n",
       "      <td>1738.016260</td>\n",
       "      <td>41.689522</td>\n",
       "    </tr>\n",
       "    <tr>\n",
       "      <th>5</th>\n",
       "      <td>gradient_boost</td>\n",
       "      <td>22.689665</td>\n",
       "      <td>1265.425229</td>\n",
       "      <td>35.572816</td>\n",
       "    </tr>\n",
       "  </tbody>\n",
       "</table>\n",
       "</div>"
      ],
      "text/plain": [
       "         Algorithms  mean_absolute  mean_square  mean_root_square\n",
       "0  Linearregression      43.337001  3058.959256         55.307859\n",
       "1               KNN      24.655349  1514.579121         38.917594\n",
       "2       Decisontree      27.592160  1901.510303         43.606310\n",
       "3      Randomforest      25.401762  1547.500724         39.338286\n",
       "4          Adaboost      29.757865  1738.016260         41.689522\n",
       "5    gradient_boost      22.689665  1265.425229         35.572816"
      ]
     },
     "execution_count": 86,
     "metadata": {},
     "output_type": "execute_result"
    }
   ],
   "source": [
    "data_outliers ##without removing the outlier the error is more "
   ]
  },
  {
   "cell_type": "code",
   "execution_count": 87,
   "id": "f55c331c",
   "metadata": {
    "ExecuteTime": {
     "end_time": "2023-02-11T10:46:41.864016Z",
     "start_time": "2023-02-11T10:46:41.849056Z"
    }
   },
   "outputs": [
    {
     "data": {
      "text/html": [
       "<div>\n",
       "<style scoped>\n",
       "    .dataframe tbody tr th:only-of-type {\n",
       "        vertical-align: middle;\n",
       "    }\n",
       "\n",
       "    .dataframe tbody tr th {\n",
       "        vertical-align: top;\n",
       "    }\n",
       "\n",
       "    .dataframe thead th {\n",
       "        text-align: right;\n",
       "    }\n",
       "</style>\n",
       "<table border=\"1\" class=\"dataframe\">\n",
       "  <thead>\n",
       "    <tr style=\"text-align: right;\">\n",
       "      <th></th>\n",
       "      <th>Algorithms</th>\n",
       "      <th>mean_absolute</th>\n",
       "      <th>mean_square</th>\n",
       "      <th>mean_root_square</th>\n",
       "    </tr>\n",
       "  </thead>\n",
       "  <tbody>\n",
       "    <tr>\n",
       "      <th>0</th>\n",
       "      <td>Linearregression</td>\n",
       "      <td>40.352873</td>\n",
       "      <td>2465.133302</td>\n",
       "      <td>49.650109</td>\n",
       "    </tr>\n",
       "    <tr>\n",
       "      <th>1</th>\n",
       "      <td>KNN</td>\n",
       "      <td>20.284606</td>\n",
       "      <td>817.271270</td>\n",
       "      <td>28.587957</td>\n",
       "    </tr>\n",
       "    <tr>\n",
       "      <th>2</th>\n",
       "      <td>Decisontree</td>\n",
       "      <td>24.640307</td>\n",
       "      <td>1452.380045</td>\n",
       "      <td>38.110104</td>\n",
       "    </tr>\n",
       "    <tr>\n",
       "      <th>3</th>\n",
       "      <td>Randomforest</td>\n",
       "      <td>21.718397</td>\n",
       "      <td>979.993778</td>\n",
       "      <td>31.304852</td>\n",
       "    </tr>\n",
       "    <tr>\n",
       "      <th>4</th>\n",
       "      <td>Adaboost</td>\n",
       "      <td>25.842476</td>\n",
       "      <td>1198.079392</td>\n",
       "      <td>34.613283</td>\n",
       "    </tr>\n",
       "    <tr>\n",
       "      <th>5</th>\n",
       "      <td>gradient_boost</td>\n",
       "      <td>18.653870</td>\n",
       "      <td>713.104127</td>\n",
       "      <td>26.704010</td>\n",
       "    </tr>\n",
       "  </tbody>\n",
       "</table>\n",
       "</div>"
      ],
      "text/plain": [
       "         Algorithms  mean_absolute  mean_square  mean_root_square\n",
       "0  Linearregression      40.352873  2465.133302         49.650109\n",
       "1               KNN      20.284606   817.271270         28.587957\n",
       "2       Decisontree      24.640307  1452.380045         38.110104\n",
       "3      Randomforest      21.718397   979.993778         31.304852\n",
       "4          Adaboost      25.842476  1198.079392         34.613283\n",
       "5    gradient_boost      18.653870   713.104127         26.704010"
      ]
     },
     "execution_count": 87,
     "metadata": {},
     "output_type": "execute_result"
    }
   ],
   "source": [
    "data_withoutliers ## after removing the outliers the error is less"
   ]
  },
  {
   "cell_type": "markdown",
   "id": "331ea564",
   "metadata": {
    "ExecuteTime": {
     "end_time": "2023-02-11T10:29:42.305862Z",
     "start_time": "2023-02-11T10:29:42.295933Z"
    }
   },
   "source": [
    "### by the above dataa there are 17 outliers in the data if we remove the outliers the error score  is less compared to the data with outliers"
   ]
  },
  {
   "cell_type": "markdown",
   "id": "6a00ba87",
   "metadata": {
    "ExecuteTime": {
     "end_time": "2023-02-11T10:46:41.880010Z",
     "start_time": "2023-02-11T10:46:41.866012Z"
    }
   },
   "source": [
    "### the output column as outliers .if we do transformation for the outlier column `cube root `transformation is best compared to the log transformation.but when we perform cube root transfotmation to outlier column 810 are of `nan` values "
   ]
  },
  {
   "cell_type": "markdown",
   "id": "4b1c82c2",
   "metadata": {},
   "source": [
    "### `` gradientboost`` is the least error  compared to all algorithms"
   ]
  },
  {
   "cell_type": "code",
   "execution_count": null,
   "id": "39469469",
   "metadata": {},
   "outputs": [],
   "source": []
  }
 ],
 "metadata": {
  "kernelspec": {
   "display_name": "Python 3 (ipykernel)",
   "language": "python",
   "name": "python3"
  },
  "language_info": {
   "codemirror_mode": {
    "name": "ipython",
    "version": 3
   },
   "file_extension": ".py",
   "mimetype": "text/x-python",
   "name": "python",
   "nbconvert_exporter": "python",
   "pygments_lexer": "ipython3",
   "version": "3.9.12"
  }
 },
 "nbformat": 4,
 "nbformat_minor": 5
}
